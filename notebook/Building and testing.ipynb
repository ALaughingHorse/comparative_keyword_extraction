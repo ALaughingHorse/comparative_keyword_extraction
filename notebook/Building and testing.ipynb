{
 "cells": [
  {
   "cell_type": "code",
   "execution_count": 5,
   "metadata": {},
   "outputs": [],
   "source": [
    "import pandas as pd\n",
    "import numpy as np\n",
    "from sklearn.feature_extraction.text import CountVectorizer, TfidfVectorizer\n",
    "#from utility import xm_text_processor\n",
    "PATH = \"/Users/xiaoma/Desktop/gitrepo/associate-term-search/data/switch_reviews.csv\"\n",
    "from compExtract import ComparativeExtraction"
   ]
  },
  {
   "cell_type": "code",
   "execution_count": 6,
   "metadata": {},
   "outputs": [],
   "source": [
    "data = pd.read_csv(PATH)\n",
    "ngram_range = (1,3)\n",
    "min_df = 0.01\n",
    "max_df = 0.9\n",
    "top_n = 20"
   ]
  },
  {
   "cell_type": "code",
   "execution_count": null,
   "metadata": {},
   "outputs": [],
   "source": []
  },
  {
   "cell_type": "code",
   "execution_count": 7,
   "metadata": {},
   "outputs": [],
   "source": [
    "corpus = np.array([str(x) for x in data[\"reviews\"]])\n",
    "labels = [x >= 3 for x in data[\"stars\"]]\n",
    "# a dataframe of all the reviews\n",
    "df = pd.DataFrame({\"review_text\":corpus,\"labels\":labels})"
   ]
  },
  {
   "cell_type": "code",
   "execution_count": 8,
   "metadata": {},
   "outputs": [
    {
     "name": "stderr",
     "output_type": "stream",
     "text": [
      "/Users/xiaoma/envs/compExtract/lib/python3.7/site-packages/sklearn/feature_extraction/text.py:489: UserWarning: The parameter 'token_pattern' will not be used since 'tokenizer' is not None'\n",
      "  warnings.warn(\"The parameter 'token_pattern' will not be used\"\n"
     ]
    }
   ],
   "source": [
    "ce = ComparativeExtraction(corpus=corpus, labels=labels).get_distinguish_terms()"
   ]
  },
  {
   "cell_type": "code",
   "execution_count": null,
   "metadata": {},
   "outputs": [],
   "source": [
    "# Fit the Count vectorizer\n",
    "vec_count = CountVectorizer(ngram_range = ngram_range,tokenizer=self.tokenizer,min_df =min_df, max_df = max_df,binary = True) \n",
    "vec_count_f = vec_count.fit(df['review_text'])"
   ]
  },
  {
   "cell_type": "code",
   "execution_count": null,
   "metadata": {},
   "outputs": [],
   "source": [
    "# Fit the Count vectorizer\n",
    "vec_count = CountVectorizer(ngram_range = ngram_range,tokenizer=self.tokenizer,min_df =min_df, max_df = max_df,binary = True) \n",
    "vec_count_f = vec_count.fit(df['review_text'])\n",
    "\n",
    "# Create the triaining document-term matrix\n",
    "dtm = vec_count_f.transform(df['review_text'])\n",
    "dtm_df = pd.DataFrame(dtm.toarray())\n",
    "dtm_df.columns = vec_count_f.get_feature_names()\n",
    "\n",
    "# Separate the terms into positive and negative dataframes\n",
    "pos_df = dtm_df[df['labels'] == 1].reset_index(drop = True)\n",
    "neg_df = dtm_df[df['labels'] == 0].reset_index(drop = True)\n",
    "\n",
    "# Get the proportional document frequencies for each term\n",
    "pos_shape = pos_df.shape[0]\n",
    "pos_count = [sum(pos_df[x] == 1) for x in vec_count_f.get_feature_names()]\n",
    "pos_prop = np.array(pos_count)/pos_shape\n",
    "\n",
    "neg_shape = neg_df.shape[0]\n",
    "neg_count = [sum(neg_df[x] == 1) for x in vec_count_f.get_feature_names()]\n",
    "neg_prop = np.array(neg_count)/neg_shape"
   ]
  }
 ],
 "metadata": {
  "kernelspec": {
   "display_name": "compExtract",
   "language": "python",
   "name": "compextract"
  },
  "language_info": {
   "codemirror_mode": {
    "name": "ipython",
    "version": 3
   },
   "file_extension": ".py",
   "mimetype": "text/x-python",
   "name": "python",
   "nbconvert_exporter": "python",
   "pygments_lexer": "ipython3",
   "version": "3.7.3"
  }
 },
 "nbformat": 4,
 "nbformat_minor": 2
}
