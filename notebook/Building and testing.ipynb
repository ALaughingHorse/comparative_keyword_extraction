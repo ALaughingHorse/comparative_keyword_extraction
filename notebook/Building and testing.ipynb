{
 "cells": [
  {
   "cell_type": "code",
   "execution_count": 1,
   "metadata": {},
   "outputs": [
    {
     "ename": "ModuleNotFoundError",
     "evalue": "No module named 'utility'",
     "output_type": "error",
     "traceback": [
      "\u001b[0;31m---------------------------------------------------------------------------\u001b[0m",
      "\u001b[0;31mModuleNotFoundError\u001b[0m                       Traceback (most recent call last)",
      "\u001b[0;32m/var/folders/mj/1_2ysvhj13b8rzrxx10r9tsw0000gn/T/ipykernel_42255/1347815462.py\u001b[0m in \u001b[0;36m<module>\u001b[0;34m\u001b[0m\n\u001b[1;32m      4\u001b[0m \u001b[0;31m#from utility import xm_text_processor\u001b[0m\u001b[0;34m\u001b[0m\u001b[0;34m\u001b[0m\u001b[0;34m\u001b[0m\u001b[0m\n\u001b[1;32m      5\u001b[0m \u001b[0mPATH\u001b[0m \u001b[0;34m=\u001b[0m \u001b[0;34m\"/Users/xiaoma/Desktop/gitrepo/associate-term-search/data/switch_reviews.csv\"\u001b[0m\u001b[0;34m\u001b[0m\u001b[0;34m\u001b[0m\u001b[0m\n\u001b[0;32m----> 6\u001b[0;31m \u001b[0;32mfrom\u001b[0m \u001b[0mcompExtract\u001b[0m \u001b[0;32mimport\u001b[0m \u001b[0mComparativeExtraction\u001b[0m\u001b[0;34m\u001b[0m\u001b[0;34m\u001b[0m\u001b[0m\n\u001b[0m",
      "\u001b[0;32m~/envs/compExtract/lib/python3.7/site-packages/compExtract/__init__.py\u001b[0m in \u001b[0;36m<module>\u001b[0;34m\u001b[0m\n\u001b[0;32m----> 1\u001b[0;31m \u001b[0;32mfrom\u001b[0m \u001b[0mcompExtract\u001b[0m\u001b[0;34m.\u001b[0m\u001b[0mcompExtract\u001b[0m \u001b[0;32mimport\u001b[0m \u001b[0;34m*\u001b[0m\u001b[0;34m\u001b[0m\u001b[0;34m\u001b[0m\u001b[0m\n\u001b[0m\u001b[1;32m      2\u001b[0m \u001b[0;32mfrom\u001b[0m \u001b[0mcompExtract\u001b[0m\u001b[0;34m.\u001b[0m\u001b[0mutility\u001b[0m \u001b[0;32mimport\u001b[0m \u001b[0;34m*\u001b[0m\u001b[0;34m\u001b[0m\u001b[0;34m\u001b[0m\u001b[0m\n",
      "\u001b[0;32m~/envs/compExtract/lib/python3.7/site-packages/compExtract/compExtract.py\u001b[0m in \u001b[0;36m<module>\u001b[0;34m\u001b[0m\n\u001b[1;32m      5\u001b[0m \u001b[0;32mimport\u001b[0m \u001b[0mpandas\u001b[0m \u001b[0;32mas\u001b[0m \u001b[0mpd\u001b[0m\u001b[0;34m\u001b[0m\u001b[0;34m\u001b[0m\u001b[0m\n\u001b[1;32m      6\u001b[0m \u001b[0;32mimport\u001b[0m \u001b[0mnumpy\u001b[0m \u001b[0;32mas\u001b[0m \u001b[0mnp\u001b[0m\u001b[0;34m\u001b[0m\u001b[0;34m\u001b[0m\u001b[0m\n\u001b[0;32m----> 7\u001b[0;31m \u001b[0;32mfrom\u001b[0m \u001b[0mutility\u001b[0m \u001b[0;32mimport\u001b[0m \u001b[0mxm_text_processor\u001b[0m\u001b[0;34m,\u001b[0m \u001b[0mget_binary_dttb\u001b[0m\u001b[0;34m\u001b[0m\u001b[0;34m\u001b[0m\u001b[0m\n\u001b[0m\u001b[1;32m      8\u001b[0m \u001b[0;34m\u001b[0m\u001b[0m\n\u001b[1;32m      9\u001b[0m \u001b[0;32mclass\u001b[0m \u001b[0mComparativeExtraction\u001b[0m\u001b[0;34m:\u001b[0m\u001b[0;34m\u001b[0m\u001b[0;34m\u001b[0m\u001b[0m\n",
      "\u001b[0;31mModuleNotFoundError\u001b[0m: No module named 'utility'"
     ]
    }
   ],
   "source": [
    "import pandas as pd\n",
    "import numpy as np\n",
    "from sklearn.feature_extraction.text import CountVectorizer, TfidfVectorizer\n",
    "#from utility import xm_text_processor\n",
    "PATH = \"/Users/xiaoma/Desktop/gitrepo/associate-term-search/data/switch_reviews.csv\"\n",
    "from compExtract import ComparativeExtraction"
   ]
  },
  {
   "cell_type": "code",
   "execution_count": null,
   "metadata": {},
   "outputs": [],
   "source": [
    "data = pd.read_csv(PATH)\n",
    "ngram_range = (1,3)\n",
    "min_df = 0.01\n",
    "max_df = 0.9\n",
    "top_n = 20"
   ]
  },
  {
   "cell_type": "code",
   "execution_count": null,
   "metadata": {},
   "outputs": [],
   "source": []
  },
  {
   "cell_type": "code",
   "execution_count": null,
   "metadata": {},
   "outputs": [],
   "source": [
    "corpus = np.array([str(x) for x in data[\"reviews\"]])\n",
    "labels = [x >= 3 for x in data[\"stars\"]]\n",
    "# a dataframe of all the reviews\n",
    "df = pd.DataFrame({\"review_text\":corpus,\"labels\":labels})"
   ]
  },
  {
   "cell_type": "code",
   "execution_count": null,
   "metadata": {},
   "outputs": [],
   "source": [
    "ce = ComparativeExtraction(corpus=corpus, labels=labels).get_distinguish_terms()"
   ]
  },
  {
   "cell_type": "code",
   "execution_count": null,
   "metadata": {},
   "outputs": [],
   "source": [
    "# Fit the Count vectorizer\n",
    "vec_count = CountVectorizer(ngram_range = ngram_range,tokenizer=self.tokenizer,min_df =min_df, max_df = max_df,binary = True) \n",
    "vec_count_f = vec_count.fit(df['review_text'])"
   ]
  },
  {
   "cell_type": "code",
   "execution_count": null,
   "metadata": {},
   "outputs": [],
   "source": [
    "# Fit the Count vectorizer\n",
    "vec_count = CountVectorizer(ngram_range = ngram_range,tokenizer=self.tokenizer,min_df =min_df, max_df = max_df,binary = True) \n",
    "vec_count_f = vec_count.fit(df['review_text'])\n",
    "\n",
    "# Create the triaining document-term matrix\n",
    "dtm = vec_count_f.transform(df['review_text'])\n",
    "dtm_df = pd.DataFrame(dtm.toarray())\n",
    "dtm_df.columns = vec_count_f.get_feature_names()\n",
    "\n",
    "# Separate the terms into positive and negative dataframes\n",
    "pos_df = dtm_df[df['labels'] == 1].reset_index(drop = True)\n",
    "neg_df = dtm_df[df['labels'] == 0].reset_index(drop = True)\n",
    "\n",
    "# Get the proportional document frequencies for each term\n",
    "pos_shape = pos_df.shape[0]\n",
    "pos_count = [sum(pos_df[x] == 1) for x in vec_count_f.get_feature_names()]\n",
    "pos_prop = np.array(pos_count)/pos_shape\n",
    "\n",
    "neg_shape = neg_df.shape[0]\n",
    "neg_count = [sum(neg_df[x] == 1) for x in vec_count_f.get_feature_names()]\n",
    "neg_prop = np.array(neg_count)/neg_shape"
   ]
  }
 ],
 "metadata": {
  "kernelspec": {
   "display_name": "compExtract",
   "language": "python",
   "name": "compextract"
  },
  "language_info": {
   "codemirror_mode": {
    "name": "ipython",
    "version": 3
   },
   "file_extension": ".py",
   "mimetype": "text/x-python",
   "name": "python",
   "nbconvert_exporter": "python",
   "pygments_lexer": "ipython3",
   "version": "3.7.3"
  }
 },
 "nbformat": 4,
 "nbformat_minor": 2
}
