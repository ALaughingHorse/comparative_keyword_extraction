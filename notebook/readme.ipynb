{
 "cells": [
  {
   "cell_type": "markdown",
   "metadata": {},
   "source": [
    "## Introduction"
   ]
  },
  {
   "cell_type": "markdown",
   "metadata": {},
   "source": [
    "This module helps you extract key terms and topics from corpus using a comparative approach."
   ]
  },
  {
   "cell_type": "markdown",
   "metadata": {},
   "source": [
    "## Installation"
   ]
  },
  {
   "cell_type": "markdown",
   "metadata": {},
   "source": [
    "## Usage"
   ]
  },
  {
   "cell_type": "markdown",
   "metadata": {},
   "source": [
    "### Import packages"
   ]
  },
  {
   "cell_type": "code",
   "execution_count": 2,
   "metadata": {},
   "outputs": [],
   "source": [
    "from compExtract import ComparativeExtraction"
   ]
  },
  {
   "cell_type": "markdown",
   "metadata": {},
   "source": [
    "### Load sample data"
   ]
  },
  {
   "cell_type": "code",
   "execution_count": 3,
   "metadata": {},
   "outputs": [],
   "source": [
    "import pandas as pd\n",
    "import numpy as np\n",
    "PATH = \"/Users/xiaoma/Desktop/gitrepo/associate-term-search/data/switch_reviews.csv\"\n",
    "data = pd.read_csv(PATH)\n",
    "label = [x <= 3 for x in data['stars']]"
   ]
  },
  {
   "cell_type": "code",
   "execution_count": 4,
   "metadata": {},
   "outputs": [
    {
     "data": {
      "text/html": [
       "<div>\n",
       "<style scoped>\n",
       "    .dataframe tbody tr th:only-of-type {\n",
       "        vertical-align: middle;\n",
       "    }\n",
       "\n",
       "    .dataframe tbody tr th {\n",
       "        vertical-align: top;\n",
       "    }\n",
       "\n",
       "    .dataframe thead th {\n",
       "        text-align: right;\n",
       "    }\n",
       "</style>\n",
       "<table border=\"1\" class=\"dataframe\">\n",
       "  <thead>\n",
       "    <tr style=\"text-align: right;\">\n",
       "      <th></th>\n",
       "      <th>stars</th>\n",
       "      <th>titles</th>\n",
       "      <th>reviews</th>\n",
       "      <th>dates</th>\n",
       "    </tr>\n",
       "  </thead>\n",
       "  <tbody>\n",
       "    <tr>\n",
       "      <th>0</th>\n",
       "      <td>5.0</td>\n",
       "      <td>Worth It\\n</td>\n",
       "      <td>Definitely worth the money!\\n</td>\n",
       "      <td>September 21, 2019</td>\n",
       "    </tr>\n",
       "    <tr>\n",
       "      <th>1</th>\n",
       "      <td>2.0</td>\n",
       "      <td>Nintendo Swich gris joy con\\n</td>\n",
       "      <td>Con este producto no he sentido mucha satisfac...</td>\n",
       "      <td>September 20, 2019</td>\n",
       "    </tr>\n",
       "    <tr>\n",
       "      <th>2</th>\n",
       "      <td>5.0</td>\n",
       "      <td>My kid wont put it down\\n</td>\n",
       "      <td>Couldnt of been happier, came early.  I was th...</td>\n",
       "      <td>September 20, 2019</td>\n",
       "    </tr>\n",
       "    <tr>\n",
       "      <th>3</th>\n",
       "      <td>3.0</td>\n",
       "      <td>Happy\\n</td>\n",
       "      <td>Happy\\n</td>\n",
       "      <td>September 20, 2019</td>\n",
       "    </tr>\n",
       "    <tr>\n",
       "      <th>4</th>\n",
       "      <td>5.0</td>\n",
       "      <td>Great\\n</td>\n",
       "      <td>Great product\\n</td>\n",
       "      <td>September 19, 2019</td>\n",
       "    </tr>\n",
       "    <tr>\n",
       "      <th>...</th>\n",
       "      <td>...</td>\n",
       "      <td>...</td>\n",
       "      <td>...</td>\n",
       "      <td>...</td>\n",
       "    </tr>\n",
       "    <tr>\n",
       "      <th>4995</th>\n",
       "      <td>1.0</td>\n",
       "      <td>One Star\\n</td>\n",
       "      <td>it is no good, it suck, no work, plz hlp amazon\\n</td>\n",
       "      <td>December 12, 2017</td>\n",
       "    </tr>\n",
       "    <tr>\n",
       "      <th>4996</th>\n",
       "      <td>5.0</td>\n",
       "      <td>A must have gaming system\\n</td>\n",
       "      <td>The Nintendo Switch is a versatile hybrid game...</td>\n",
       "      <td>December 12, 2017</td>\n",
       "    </tr>\n",
       "    <tr>\n",
       "      <th>4997</th>\n",
       "      <td>5.0</td>\n",
       "      <td>Switch\\n</td>\n",
       "      <td>This purchase save me from looking for one.\\n</td>\n",
       "      <td>December 11, 2017</td>\n",
       "    </tr>\n",
       "    <tr>\n",
       "      <th>4998</th>\n",
       "      <td>5.0</td>\n",
       "      <td>Five Stars\\n</td>\n",
       "      <td>Best babysitter ever!\\n</td>\n",
       "      <td>December 11, 2017</td>\n",
       "    </tr>\n",
       "    <tr>\n",
       "      <th>4999</th>\n",
       "      <td>5.0</td>\n",
       "      <td>Five Stars\\n</td>\n",
       "      <td>Its a great game console.\\n</td>\n",
       "      <td>December 11, 2017</td>\n",
       "    </tr>\n",
       "  </tbody>\n",
       "</table>\n",
       "<p>5000 rows × 4 columns</p>\n",
       "</div>"
      ],
      "text/plain": [
       "      stars                         titles  \\\n",
       "0       5.0                     Worth It\\n   \n",
       "1       2.0  Nintendo Swich gris joy con\\n   \n",
       "2       5.0      My kid wont put it down\\n   \n",
       "3       3.0                        Happy\\n   \n",
       "4       5.0                        Great\\n   \n",
       "...     ...                            ...   \n",
       "4995    1.0                     One Star\\n   \n",
       "4996    5.0    A must have gaming system\\n   \n",
       "4997    5.0                       Switch\\n   \n",
       "4998    5.0                   Five Stars\\n   \n",
       "4999    5.0                   Five Stars\\n   \n",
       "\n",
       "                                                reviews               dates  \n",
       "0                         Definitely worth the money!\\n  September 21, 2019  \n",
       "1     Con este producto no he sentido mucha satisfac...  September 20, 2019  \n",
       "2     Couldnt of been happier, came early.  I was th...  September 20, 2019  \n",
       "3                                               Happy\\n  September 20, 2019  \n",
       "4                                       Great product\\n  September 19, 2019  \n",
       "...                                                 ...                 ...  \n",
       "4995  it is no good, it suck, no work, plz hlp amazon\\n   December 12, 2017  \n",
       "4996  The Nintendo Switch is a versatile hybrid game...   December 12, 2017  \n",
       "4997      This purchase save me from looking for one.\\n   December 11, 2017  \n",
       "4998                            Best babysitter ever!\\n   December 11, 2017  \n",
       "4999                        Its a great game console.\\n   December 11, 2017  \n",
       "\n",
       "[5000 rows x 4 columns]"
      ]
     },
     "execution_count": 4,
     "metadata": {},
     "output_type": "execute_result"
    }
   ],
   "source": [
    "data"
   ]
  },
  {
   "cell_type": "code",
   "execution_count": 5,
   "metadata": {},
   "outputs": [
    {
     "data": {
      "text/plain": [
       "Index(['stars', 'titles', 'reviews', 'dates'], dtype='object')"
      ]
     },
     "execution_count": 5,
     "metadata": {},
     "output_type": "execute_result"
    }
   ],
   "source": [
    "data.columns"
   ]
  },
  {
   "cell_type": "markdown",
   "metadata": {},
   "source": [
    "Here we are using online Amazon reviews for Nintendo Switch to illustrate the usages of the module. \n",
    "\n",
    "The module requires a corpus and a set of binary labels as inputs. The labels should be created depending on what type of questions are we trying to answer. The set of labels should be of the same length as the corpus.\n",
    "\n",
    "Here, let's assume that we want to know why people dislike this product and find relevant keywords. To answer this question, we created the label to be a binary variable indicating whether a reviewer gives a 3 star or less. "
   ]
  },
  {
   "cell_type": "markdown",
   "metadata": {},
   "source": [
    "### Initialize the module with the review corpus and labels"
   ]
  },
  {
   "cell_type": "code",
   "execution_count": 17,
   "metadata": {},
   "outputs": [],
   "source": [
    "ce = ComparativeExtraction(corpus = data['reviews'], labels = label)"
   ]
  },
  {
   "cell_type": "markdown",
   "metadata": {},
   "source": [
    "### Extract the keywords"
   ]
  },
  {
   "cell_type": "code",
   "execution_count": 8,
   "metadata": {},
   "outputs": [
    {
     "data": {
      "text/plain": [
       "<compExtract.ComparativeExtraction at 0x7ff96f84b588>"
      ]
     },
     "execution_count": 8,
     "metadata": {},
     "output_type": "execute_result"
    }
   ],
   "source": [
    "ce.get_distinguish_terms(ngram_range = (1,3),top_n = 10)"
   ]
  },
  {
   "cell_type": "code",
   "execution_count": 11,
   "metadata": {},
   "outputs": [
    {
     "data": {
      "text/html": [
       "<div>\n",
       "<style scoped>\n",
       "    .dataframe tbody tr th:only-of-type {\n",
       "        vertical-align: middle;\n",
       "    }\n",
       "\n",
       "    .dataframe tbody tr th {\n",
       "        vertical-align: top;\n",
       "    }\n",
       "\n",
       "    .dataframe thead th {\n",
       "        text-align: right;\n",
       "    }\n",
       "</style>\n",
       "<table border=\"1\" class=\"dataframe\">\n",
       "  <thead>\n",
       "    <tr style=\"text-align: right;\">\n",
       "      <th></th>\n",
       "      <th>feature</th>\n",
       "      <th>diff</th>\n",
       "      <th>pos_prop</th>\n",
       "      <th>pos_count</th>\n",
       "      <th>neg_prop</th>\n",
       "      <th>neg_count</th>\n",
       "    </tr>\n",
       "  </thead>\n",
       "  <tbody>\n",
       "    <tr>\n",
       "      <th>0</th>\n",
       "      <td>work</td>\n",
       "      <td>0.194976</td>\n",
       "      <td>0.278426</td>\n",
       "      <td>191</td>\n",
       "      <td>0.083449</td>\n",
       "      <td>360</td>\n",
       "    </tr>\n",
       "    <tr>\n",
       "      <th>1</th>\n",
       "      <td>switch</td>\n",
       "      <td>0.176764</td>\n",
       "      <td>0.351312</td>\n",
       "      <td>241</td>\n",
       "      <td>0.174548</td>\n",
       "      <td>753</td>\n",
       "    </tr>\n",
       "    <tr>\n",
       "      <th>2</th>\n",
       "      <td>buy</td>\n",
       "      <td>0.174520</td>\n",
       "      <td>0.297376</td>\n",
       "      <td>204</td>\n",
       "      <td>0.122856</td>\n",
       "      <td>530</td>\n",
       "    </tr>\n",
       "    <tr>\n",
       "      <th>3</th>\n",
       "      <td>month</td>\n",
       "      <td>0.143129</td>\n",
       "      <td>0.158892</td>\n",
       "      <td>109</td>\n",
       "      <td>0.015763</td>\n",
       "      <td>68</td>\n",
       "    </tr>\n",
       "    <tr>\n",
       "      <th>4</th>\n",
       "      <td>nintendo</td>\n",
       "      <td>0.134316</td>\n",
       "      <td>0.290087</td>\n",
       "      <td>199</td>\n",
       "      <td>0.155772</td>\n",
       "      <td>672</td>\n",
       "    </tr>\n",
       "    <tr>\n",
       "      <th>5</th>\n",
       "      <td>charge</td>\n",
       "      <td>0.122855</td>\n",
       "      <td>0.141399</td>\n",
       "      <td>97</td>\n",
       "      <td>0.018544</td>\n",
       "      <td>80</td>\n",
       "    </tr>\n",
       "    <tr>\n",
       "      <th>6</th>\n",
       "      <td>use</td>\n",
       "      <td>0.118448</td>\n",
       "      <td>0.206997</td>\n",
       "      <td>142</td>\n",
       "      <td>0.088549</td>\n",
       "      <td>382</td>\n",
       "    </tr>\n",
       "    <tr>\n",
       "      <th>7</th>\n",
       "      <td>new</td>\n",
       "      <td>0.113989</td>\n",
       "      <td>0.160350</td>\n",
       "      <td>110</td>\n",
       "      <td>0.046361</td>\n",
       "      <td>200</td>\n",
       "    </tr>\n",
       "    <tr>\n",
       "      <th>8</th>\n",
       "      <td>would</td>\n",
       "      <td>0.106540</td>\n",
       "      <td>0.164723</td>\n",
       "      <td>113</td>\n",
       "      <td>0.058183</td>\n",
       "      <td>251</td>\n",
       "    </tr>\n",
       "    <tr>\n",
       "      <th>9</th>\n",
       "      <td>get</td>\n",
       "      <td>0.104055</td>\n",
       "      <td>0.231778</td>\n",
       "      <td>159</td>\n",
       "      <td>0.127724</td>\n",
       "      <td>551</td>\n",
       "    </tr>\n",
       "  </tbody>\n",
       "</table>\n",
       "</div>"
      ],
      "text/plain": [
       "    feature      diff  pos_prop  pos_count  neg_prop  neg_count\n",
       "0      work  0.194976  0.278426        191  0.083449        360\n",
       "1    switch  0.176764  0.351312        241  0.174548        753\n",
       "2       buy  0.174520  0.297376        204  0.122856        530\n",
       "3     month  0.143129  0.158892        109  0.015763         68\n",
       "4  nintendo  0.134316  0.290087        199  0.155772        672\n",
       "5    charge  0.122855  0.141399         97  0.018544         80\n",
       "6       use  0.118448  0.206997        142  0.088549        382\n",
       "7       new  0.113989  0.160350        110  0.046361        200\n",
       "8     would  0.106540  0.164723        113  0.058183        251\n",
       "9       get  0.104055  0.231778        159  0.127724        551"
      ]
     },
     "execution_count": 11,
     "metadata": {},
     "output_type": "execute_result"
    }
   ],
   "source": [
    "# Get the keywords that are mentioned significantly more in the less than or equal to 3 star reviews\n",
    "ce.increased_terms_df"
   ]
  },
  {
   "cell_type": "code",
   "execution_count": 12,
   "metadata": {},
   "outputs": [
    {
     "data": {
      "text/html": [
       "<div>\n",
       "<style scoped>\n",
       "    .dataframe tbody tr th:only-of-type {\n",
       "        vertical-align: middle;\n",
       "    }\n",
       "\n",
       "    .dataframe tbody tr th {\n",
       "        vertical-align: top;\n",
       "    }\n",
       "\n",
       "    .dataframe thead th {\n",
       "        text-align: right;\n",
       "    }\n",
       "</style>\n",
       "<table border=\"1\" class=\"dataframe\">\n",
       "  <thead>\n",
       "    <tr style=\"text-align: right;\">\n",
       "      <th></th>\n",
       "      <th>feature</th>\n",
       "      <th>diff</th>\n",
       "      <th>pos_prop</th>\n",
       "      <th>pos_count</th>\n",
       "      <th>neg_prop</th>\n",
       "      <th>neg_count</th>\n",
       "    </tr>\n",
       "  </thead>\n",
       "  <tbody>\n",
       "    <tr>\n",
       "      <th>0</th>\n",
       "      <td>love</td>\n",
       "      <td>-0.216997</td>\n",
       "      <td>0.080175</td>\n",
       "      <td>55</td>\n",
       "      <td>0.297172</td>\n",
       "      <td>1282</td>\n",
       "    </tr>\n",
       "    <tr>\n",
       "      <th>1</th>\n",
       "      <td>great</td>\n",
       "      <td>-0.122247</td>\n",
       "      <td>0.099125</td>\n",
       "      <td>68</td>\n",
       "      <td>0.221372</td>\n",
       "      <td>955</td>\n",
       "    </tr>\n",
       "    <tr>\n",
       "      <th>2</th>\n",
       "      <td>fun</td>\n",
       "      <td>-0.048160</td>\n",
       "      <td>0.046647</td>\n",
       "      <td>32</td>\n",
       "      <td>0.094808</td>\n",
       "      <td>409</td>\n",
       "    </tr>\n",
       "    <tr>\n",
       "      <th>3</th>\n",
       "      <td>best</td>\n",
       "      <td>-0.042638</td>\n",
       "      <td>0.030612</td>\n",
       "      <td>21</td>\n",
       "      <td>0.073250</td>\n",
       "      <td>316</td>\n",
       "    </tr>\n",
       "    <tr>\n",
       "      <th>4</th>\n",
       "      <td>amaze</td>\n",
       "      <td>-0.038011</td>\n",
       "      <td>0.010204</td>\n",
       "      <td>7</td>\n",
       "      <td>0.048215</td>\n",
       "      <td>208</td>\n",
       "    </tr>\n",
       "    <tr>\n",
       "      <th>5</th>\n",
       "      <td>awesome</td>\n",
       "      <td>-0.035827</td>\n",
       "      <td>0.007289</td>\n",
       "      <td>5</td>\n",
       "      <td>0.043115</td>\n",
       "      <td>186</td>\n",
       "    </tr>\n",
       "    <tr>\n",
       "      <th>6</th>\n",
       "      <td>son love</td>\n",
       "      <td>-0.035564</td>\n",
       "      <td>0.002915</td>\n",
       "      <td>2</td>\n",
       "      <td>0.038479</td>\n",
       "      <td>166</td>\n",
       "    </tr>\n",
       "    <tr>\n",
       "      <th>7</th>\n",
       "      <td>perfect</td>\n",
       "      <td>-0.032515</td>\n",
       "      <td>0.008746</td>\n",
       "      <td>6</td>\n",
       "      <td>0.041261</td>\n",
       "      <td>178</td>\n",
       "    </tr>\n",
       "    <tr>\n",
       "      <th>8</th>\n",
       "      <td>easy</td>\n",
       "      <td>-0.026282</td>\n",
       "      <td>0.023324</td>\n",
       "      <td>16</td>\n",
       "      <td>0.049606</td>\n",
       "      <td>214</td>\n",
       "    </tr>\n",
       "    <tr>\n",
       "      <th>9</th>\n",
       "      <td>kid love</td>\n",
       "      <td>-0.024370</td>\n",
       "      <td>0.004373</td>\n",
       "      <td>3</td>\n",
       "      <td>0.028744</td>\n",
       "      <td>124</td>\n",
       "    </tr>\n",
       "  </tbody>\n",
       "</table>\n",
       "</div>"
      ],
      "text/plain": [
       "    feature      diff  pos_prop  pos_count  neg_prop  neg_count\n",
       "0      love -0.216997  0.080175         55  0.297172       1282\n",
       "1     great -0.122247  0.099125         68  0.221372        955\n",
       "2       fun -0.048160  0.046647         32  0.094808        409\n",
       "3      best -0.042638  0.030612         21  0.073250        316\n",
       "4     amaze -0.038011  0.010204          7  0.048215        208\n",
       "5   awesome -0.035827  0.007289          5  0.043115        186\n",
       "6  son love -0.035564  0.002915          2  0.038479        166\n",
       "7   perfect -0.032515  0.008746          6  0.041261        178\n",
       "8      easy -0.026282  0.023324         16  0.049606        214\n",
       "9  kid love -0.024370  0.004373          3  0.028744        124"
      ]
     },
     "execution_count": 12,
     "metadata": {},
     "output_type": "execute_result"
    }
   ],
   "source": [
    "# Get the keywords that are mentioned significantly less in the less than or equal to 3 star reviews\n",
    "ce.decreased_terms_df"
   ]
  },
  {
   "cell_type": "markdown",
   "metadata": {},
   "source": [
    "If we need more context on a given word, or we need more interpretable topics, we can:\n",
    "1. Output the reviews that contains the term\n",
    "2. Switch the ngram_range"
   ]
  },
  {
   "cell_type": "markdown",
   "metadata": {},
   "source": [
    "### Output the reviews"
   ]
  },
  {
   "cell_type": "markdown",
   "metadata": {},
   "source": [
    "Say we want to know more about the significant term \"work\", we can directly output all the reviews containing the term.\n",
    "\n",
    "The output class \"kw\" contains a one-hot encoded document-term-matrix that has all the terms found from the corpus. We can leverage it to find corresponding reviews of each term."
   ]
  },
  {
   "cell_type": "code",
   "execution_count": 14,
   "metadata": {},
   "outputs": [
    {
     "name": "stdout",
     "output_type": "stream",
     "text": [
      "      work\n",
      "0        0\n",
      "1        0\n",
      "2        0\n",
      "3        0\n",
      "4        0\n",
      "...    ...\n",
      "4995     1\n",
      "4996     0\n",
      "4997     0\n",
      "4998     0\n",
      "4999     0\n",
      "\n",
      "[5000 rows x 1 columns]\n"
     ]
    }
   ],
   "source": [
    "# The binary_dtm provides a convenient way to extract reviews with specific terms\n",
    "print(ce.binary_dtm[['work']])"
   ]
  },
  {
   "cell_type": "code",
   "execution_count": 15,
   "metadata": {},
   "outputs": [
    {
     "data": {
      "text/plain": [
       "551"
      ]
     },
     "execution_count": 15,
     "metadata": {},
     "output_type": "execute_result"
    }
   ],
   "source": [
    "reviews_contain_term_work = data['reviews'][[x == 1 for x in ce.binary_dtm['work']]]\n",
    "len(reviews_contain_term_work)"
   ]
  },
  {
   "cell_type": "code",
   "execution_count": 16,
   "metadata": {},
   "outputs": [
    {
     "name": "stdout",
     "output_type": "stream",
     "text": [
      "I bought this as a Christmas present for my son.  After about a month and half of using it.  The switch stopped working.  It wont charge.  The product is an expensive piece of junk.\n",
      "\n"
     ]
    }
   ],
   "source": [
    "for x in pd.Series(reviews_contain_term_work).sample(1):\n",
    "    print(x)"
   ]
  },
  {
   "cell_type": "markdown",
   "metadata": {},
   "source": [
    "### Change the n-gram range to exclude uni-grams"
   ]
  },
  {
   "cell_type": "code",
   "execution_count": 18,
   "metadata": {},
   "outputs": [
    {
     "name": "stderr",
     "output_type": "stream",
     "text": [
      "/Users/xiaoma/envs/compExtract/lib/python3.7/site-packages/sklearn/feature_extraction/text.py:489: UserWarning: The parameter 'token_pattern' will not be used since 'tokenizer' is not None'\n",
      "  warnings.warn(\"The parameter 'token_pattern' will not be used\"\n"
     ]
    },
    {
     "data": {
      "text/plain": [
       "<compExtract.ComparativeExtraction at 0x7ff955f23cf8>"
      ]
     },
     "execution_count": 18,
     "metadata": {},
     "output_type": "execute_result"
    }
   ],
   "source": [
    "ce_ngram = ComparativeExtraction(corpus = data['reviews'], labels = label).get_distinguish_terms(ngram_range=(2,4), top_n=10)"
   ]
  },
  {
   "cell_type": "code",
   "execution_count": 19,
   "metadata": {},
   "outputs": [
    {
     "data": {
      "text/html": [
       "<div>\n",
       "<style scoped>\n",
       "    .dataframe tbody tr th:only-of-type {\n",
       "        vertical-align: middle;\n",
       "    }\n",
       "\n",
       "    .dataframe tbody tr th {\n",
       "        vertical-align: top;\n",
       "    }\n",
       "\n",
       "    .dataframe thead th {\n",
       "        text-align: right;\n",
       "    }\n",
       "</style>\n",
       "<table border=\"1\" class=\"dataframe\">\n",
       "  <thead>\n",
       "    <tr style=\"text-align: right;\">\n",
       "      <th></th>\n",
       "      <th>feature</th>\n",
       "      <th>diff</th>\n",
       "      <th>pos_prop</th>\n",
       "      <th>pos_count</th>\n",
       "      <th>neg_prop</th>\n",
       "      <th>neg_count</th>\n",
       "    </tr>\n",
       "  </thead>\n",
       "  <tbody>\n",
       "    <tr>\n",
       "      <th>0</th>\n",
       "      <td>joy con</td>\n",
       "      <td>0.040857</td>\n",
       "      <td>0.056851</td>\n",
       "      <td>39</td>\n",
       "      <td>0.015994</td>\n",
       "      <td>69</td>\n",
       "    </tr>\n",
       "    <tr>\n",
       "      <th>1</th>\n",
       "      <td>brand new</td>\n",
       "      <td>0.020511</td>\n",
       "      <td>0.027697</td>\n",
       "      <td>19</td>\n",
       "      <td>0.007186</td>\n",
       "      <td>31</td>\n",
       "    </tr>\n",
       "    <tr>\n",
       "      <th>2</th>\n",
       "      <td>nintendo switch</td>\n",
       "      <td>0.019638</td>\n",
       "      <td>0.074344</td>\n",
       "      <td>51</td>\n",
       "      <td>0.054706</td>\n",
       "      <td>236</td>\n",
       "    </tr>\n",
       "    <tr>\n",
       "      <th>3</th>\n",
       "      <td>buy switch</td>\n",
       "      <td>0.018888</td>\n",
       "      <td>0.027697</td>\n",
       "      <td>19</td>\n",
       "      <td>0.008809</td>\n",
       "      <td>38</td>\n",
       "    </tr>\n",
       "    <tr>\n",
       "      <th>4</th>\n",
       "      <td>play game</td>\n",
       "      <td>0.014092</td>\n",
       "      <td>0.039359</td>\n",
       "      <td>27</td>\n",
       "      <td>0.025267</td>\n",
       "      <td>109</td>\n",
       "    </tr>\n",
       "    <tr>\n",
       "      <th>5</th>\n",
       "      <td>game play</td>\n",
       "      <td>0.009812</td>\n",
       "      <td>0.021866</td>\n",
       "      <td>15</td>\n",
       "      <td>0.012054</td>\n",
       "      <td>52</td>\n",
       "    </tr>\n",
       "    <tr>\n",
       "      <th>6</th>\n",
       "      <td>year old</td>\n",
       "      <td>0.005243</td>\n",
       "      <td>0.023324</td>\n",
       "      <td>16</td>\n",
       "      <td>0.018081</td>\n",
       "      <td>78</td>\n",
       "    </tr>\n",
       "    <tr>\n",
       "      <th>7</th>\n",
       "      <td>christmas gift</td>\n",
       "      <td>0.003682</td>\n",
       "      <td>0.014577</td>\n",
       "      <td>10</td>\n",
       "      <td>0.010895</td>\n",
       "      <td>47</td>\n",
       "    </tr>\n",
       "    <tr>\n",
       "      <th>8</th>\n",
       "      <td>battery life</td>\n",
       "      <td>0.001833</td>\n",
       "      <td>0.024781</td>\n",
       "      <td>17</td>\n",
       "      <td>0.022949</td>\n",
       "      <td>99</td>\n",
       "    </tr>\n",
       "    <tr>\n",
       "      <th>9</th>\n",
       "      <td>wii u</td>\n",
       "      <td>0.000504</td>\n",
       "      <td>0.016035</td>\n",
       "      <td>11</td>\n",
       "      <td>0.015531</td>\n",
       "      <td>67</td>\n",
       "    </tr>\n",
       "  </tbody>\n",
       "</table>\n",
       "</div>"
      ],
      "text/plain": [
       "           feature      diff  pos_prop  pos_count  neg_prop  neg_count\n",
       "0          joy con  0.040857  0.056851         39  0.015994         69\n",
       "1        brand new  0.020511  0.027697         19  0.007186         31\n",
       "2  nintendo switch  0.019638  0.074344         51  0.054706        236\n",
       "3       buy switch  0.018888  0.027697         19  0.008809         38\n",
       "4        play game  0.014092  0.039359         27  0.025267        109\n",
       "5        game play  0.009812  0.021866         15  0.012054         52\n",
       "6         year old  0.005243  0.023324         16  0.018081         78\n",
       "7   christmas gift  0.003682  0.014577         10  0.010895         47\n",
       "8     battery life  0.001833  0.024781         17  0.022949         99\n",
       "9            wii u  0.000504  0.016035         11  0.015531         67"
      ]
     },
     "execution_count": 19,
     "metadata": {},
     "output_type": "execute_result"
    }
   ],
   "source": [
    "ce_ngram.increased_terms_df"
   ]
  },
  {
   "cell_type": "code",
   "execution_count": 20,
   "metadata": {},
   "outputs": [
    {
     "data": {
      "text/html": [
       "<div>\n",
       "<style scoped>\n",
       "    .dataframe tbody tr th:only-of-type {\n",
       "        vertical-align: middle;\n",
       "    }\n",
       "\n",
       "    .dataframe tbody tr th {\n",
       "        vertical-align: top;\n",
       "    }\n",
       "\n",
       "    .dataframe thead th {\n",
       "        text-align: right;\n",
       "    }\n",
       "</style>\n",
       "<table border=\"1\" class=\"dataframe\">\n",
       "  <thead>\n",
       "    <tr style=\"text-align: right;\">\n",
       "      <th></th>\n",
       "      <th>feature</th>\n",
       "      <th>diff</th>\n",
       "      <th>pos_prop</th>\n",
       "      <th>pos_count</th>\n",
       "      <th>neg_prop</th>\n",
       "      <th>neg_count</th>\n",
       "    </tr>\n",
       "  </thead>\n",
       "  <tbody>\n",
       "    <tr>\n",
       "      <th>0</th>\n",
       "      <td>son love</td>\n",
       "      <td>-0.035564</td>\n",
       "      <td>0.002915</td>\n",
       "      <td>2</td>\n",
       "      <td>0.038479</td>\n",
       "      <td>166</td>\n",
       "    </tr>\n",
       "    <tr>\n",
       "      <th>1</th>\n",
       "      <td>kid love</td>\n",
       "      <td>-0.024370</td>\n",
       "      <td>0.004373</td>\n",
       "      <td>3</td>\n",
       "      <td>0.028744</td>\n",
       "      <td>124</td>\n",
       "    </tr>\n",
       "    <tr>\n",
       "      <th>2</th>\n",
       "      <td>great game</td>\n",
       "      <td>-0.018442</td>\n",
       "      <td>0.007289</td>\n",
       "      <td>5</td>\n",
       "      <td>0.025730</td>\n",
       "      <td>111</td>\n",
       "    </tr>\n",
       "    <tr>\n",
       "      <th>3</th>\n",
       "      <td>great product</td>\n",
       "      <td>-0.014171</td>\n",
       "      <td>0.004373</td>\n",
       "      <td>3</td>\n",
       "      <td>0.018544</td>\n",
       "      <td>80</td>\n",
       "    </tr>\n",
       "    <tr>\n",
       "      <th>4</th>\n",
       "      <td>great console</td>\n",
       "      <td>-0.013641</td>\n",
       "      <td>0.005831</td>\n",
       "      <td>4</td>\n",
       "      <td>0.019471</td>\n",
       "      <td>84</td>\n",
       "    </tr>\n",
       "    <tr>\n",
       "      <th>5</th>\n",
       "      <td>best console</td>\n",
       "      <td>-0.013609</td>\n",
       "      <td>0.001458</td>\n",
       "      <td>1</td>\n",
       "      <td>0.015067</td>\n",
       "      <td>65</td>\n",
       "    </tr>\n",
       "    <tr>\n",
       "      <th>6</th>\n",
       "      <td>highly recommend</td>\n",
       "      <td>-0.012615</td>\n",
       "      <td>0.002915</td>\n",
       "      <td>2</td>\n",
       "      <td>0.015531</td>\n",
       "      <td>67</td>\n",
       "    </tr>\n",
       "    <tr>\n",
       "      <th>7</th>\n",
       "      <td>absolutely love</td>\n",
       "      <td>-0.011987</td>\n",
       "      <td>0.001458</td>\n",
       "      <td>1</td>\n",
       "      <td>0.013445</td>\n",
       "      <td>58</td>\n",
       "    </tr>\n",
       "    <tr>\n",
       "      <th>8</th>\n",
       "      <td>game system</td>\n",
       "      <td>-0.011746</td>\n",
       "      <td>0.021866</td>\n",
       "      <td>15</td>\n",
       "      <td>0.033611</td>\n",
       "      <td>145</td>\n",
       "    </tr>\n",
       "    <tr>\n",
       "      <th>9</th>\n",
       "      <td>love switch</td>\n",
       "      <td>-0.011452</td>\n",
       "      <td>0.013120</td>\n",
       "      <td>9</td>\n",
       "      <td>0.024571</td>\n",
       "      <td>106</td>\n",
       "    </tr>\n",
       "  </tbody>\n",
       "</table>\n",
       "</div>"
      ],
      "text/plain": [
       "            feature      diff  pos_prop  pos_count  neg_prop  neg_count\n",
       "0          son love -0.035564  0.002915          2  0.038479        166\n",
       "1          kid love -0.024370  0.004373          3  0.028744        124\n",
       "2        great game -0.018442  0.007289          5  0.025730        111\n",
       "3     great product -0.014171  0.004373          3  0.018544         80\n",
       "4     great console -0.013641  0.005831          4  0.019471         84\n",
       "5      best console -0.013609  0.001458          1  0.015067         65\n",
       "6  highly recommend -0.012615  0.002915          2  0.015531         67\n",
       "7   absolutely love -0.011987  0.001458          1  0.013445         58\n",
       "8       game system -0.011746  0.021866         15  0.033611        145\n",
       "9       love switch -0.011452  0.013120          9  0.024571        106"
      ]
     },
     "execution_count": 20,
     "metadata": {},
     "output_type": "execute_result"
    }
   ],
   "source": [
    "ce_ngram.decreased_terms_df"
   ]
  }
 ],
 "metadata": {
  "kernelspec": {
   "display_name": "compExtract",
   "language": "python",
   "name": "compextract"
  },
  "language_info": {
   "codemirror_mode": {
    "name": "ipython",
    "version": 3
   },
   "file_extension": ".py",
   "mimetype": "text/x-python",
   "name": "python",
   "nbconvert_exporter": "python",
   "pygments_lexer": "ipython3",
   "version": "3.7.3"
  }
 },
 "nbformat": 4,
 "nbformat_minor": 2
}
